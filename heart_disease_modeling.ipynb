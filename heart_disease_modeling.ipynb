{
 "cells": [
  {
   "cell_type": "code",
   "execution_count": 28,
   "metadata": {},
   "outputs": [],
   "source": [
    "import pandas as pd\n",
    "import numpy as np"
   ]
  },
  {
   "cell_type": "code",
   "execution_count": 29,
   "metadata": {},
   "outputs": [],
   "source": [
    "heart_data = pd.read_csv('heart_data_clean.csv')"
   ]
  },
  {
   "cell_type": "markdown",
   "metadata": {},
   "source": [
    "Because the outcome variable (target) is binary, I'm going to use a logistic regression.\n",
    "\n",
    "First, I will split the data into two sets: the target variable and the predictors/features"
   ]
  },
  {
   "cell_type": "code",
   "execution_count": 30,
   "metadata": {},
   "outputs": [],
   "source": [
    "features = ['age', 'sex', 'cp', 'trestbps', 'chol', \n",
    "           'restecg', 'thalach', 'exang', 'oldpeak', \n",
    "           'slope', 'ca', 'thal']\n",
    "\n",
    "X = heart_data[features]\n",
    "y = heart_data['target']"
   ]
  },
  {
   "cell_type": "markdown",
   "metadata": {},
   "source": [
    "The next step is to split the data into training and testing datasets\n",
    "\n",
    "Logistic regression will use scikit learn:\n",
    "\n",
    "> train_test_split\n",
    "\n",
    "> LogisticRegression"
   ]
  },
  {
   "cell_type": "code",
   "execution_count": 31,
   "metadata": {},
   "outputs": [],
   "source": [
    "from sklearn.model_selection import train_test_split"
   ]
  },
  {
   "cell_type": "code",
   "execution_count": 32,
   "metadata": {},
   "outputs": [],
   "source": [
    "#using train test split to train; \n",
    "#test size = 1/4 of the data will be used to test (3/4 for training)\n",
    "#random_state = select test data randomly\n",
    "X_train, X_test, y_train, y_test = train_test_split(\n",
    "    X, y, test_size=0.25, random_state=0)"
   ]
  },
  {
   "cell_type": "code",
   "execution_count": 33,
   "metadata": {},
   "outputs": [],
   "source": [
    "from sklearn.linear_model import LogisticRegression"
   ]
  },
  {
   "cell_type": "code",
   "execution_count": 34,
   "metadata": {},
   "outputs": [
    {
     "name": "stderr",
     "output_type": "stream",
     "text": [
      "/Library/Frameworks/Python.framework/Versions/3.7/lib/python3.7/site-packages/sklearn/linear_model/logistic.py:432: FutureWarning: Default solver will be changed to 'lbfgs' in 0.22. Specify a solver to silence this warning.\n",
      "  FutureWarning)\n"
     ]
    },
    {
     "data": {
      "text/plain": [
       "LogisticRegression(C=1.0, class_weight=None, dual=False, fit_intercept=True,\n",
       "                   intercept_scaling=1, l1_ratio=None, max_iter=100,\n",
       "                   multi_class='warn', n_jobs=None, penalty='l2',\n",
       "                   random_state=None, solver='warn', tol=0.0001, verbose=0,\n",
       "                   warm_start=False)"
      ]
     },
     "execution_count": 34,
     "metadata": {},
     "output_type": "execute_result"
    }
   ],
   "source": [
    "reg = LogisticRegression()\n",
    "\n",
    "#fit the model with training data\n",
    "reg.fit(X_train, y_train)"
   ]
  },
  {
   "cell_type": "code",
   "execution_count": 35,
   "metadata": {},
   "outputs": [],
   "source": [
    "#predict y (target) using test data\n",
    "y_predict = reg.predict(X_test)"
   ]
  },
  {
   "cell_type": "markdown",
   "metadata": {},
   "source": [
    "Now I need to evaluate the model.\n",
    "\n",
    "To do this, I'll use a confusion matrix to compare the predictions (y_predict) to the test data (y_test)"
   ]
  },
  {
   "cell_type": "code",
   "execution_count": 36,
   "metadata": {},
   "outputs": [],
   "source": [
    "from sklearn import metrics"
   ]
  },
  {
   "cell_type": "code",
   "execution_count": 37,
   "metadata": {},
   "outputs": [
    {
     "data": {
      "text/plain": [
       "array([[28,  3],\n",
       "       [ 4, 23]])"
      ]
     },
     "execution_count": 37,
     "metadata": {},
     "output_type": "execute_result"
    }
   ],
   "source": [
    "conf_matrix = metrics.confusion_matrix(y_test, y_predict)\n",
    "conf_matrix"
   ]
  },
  {
   "cell_type": "markdown",
   "metadata": {},
   "source": [
    "28 and 23 are accurate predictions (0, 1)\n",
    "3 and 4 are inaccurate predictions (0, 1)\n",
    "\n",
    "Seems pretty accurate, but let's visualize this matrix."
   ]
  },
  {
   "cell_type": "code",
   "execution_count": 38,
   "metadata": {},
   "outputs": [],
   "source": [
    "import numpy as np\n",
    "import matplotlib.pyplot as plt\n",
    "import seaborn as sns\n",
    "%matplotlib inline"
   ]
  },
  {
   "cell_type": "code",
   "execution_count": 39,
   "metadata": {},
   "outputs": [
    {
     "data": {
      "text/plain": [
       "Text(0.5, 257.44, 'Predicted')"
      ]
     },
     "execution_count": 39,
     "metadata": {},
     "output_type": "execute_result"
    },
    {
     "data": {
      "image/png": "[encoded data removed]",
      "text/plain": [
       "<Figure size 432x288 with 2 Axes>"
      ]
     },
     "metadata": {
      "needs_background": "light"
     },
     "output_type": "display_data"
    }
   ],
   "source": [
    "#Using a heatmap to visualize the confusion matrix\n",
    "\n",
    "class_names = [0, 1]\n",
    "fig, ax = plt.subplots()\n",
    "tick_marks = np.arange(len(class_names))\n",
    "\n",
    "plt.xticks(tick_marks, class_names)\n",
    "plt.yticks(tick_marks, class_names)\n",
    "\n",
    "sns.heatmap(pd.DataFrame(conf_matrix),\n",
    "           annot = True, cmap = 'summer')\n",
    "\n",
    "ax.xaxis.set_label_position('top')\n",
    "\n",
    "plt.tight_layout()\n",
    "\n",
    "plt.title(\"Confusion Matrix\", y=1.1)\n",
    "plt.ylabel('Actual')\n",
    "plt.xlabel('Predicted')"
   ]
  },
  {
   "cell_type": "markdown",
   "metadata": {},
   "source": [
    "To better evaluate the model, I'm going to use accuracy, precision, and recall; "
   ]
  },
  {
   "cell_type": "code",
   "execution_count": 40,
   "metadata": {},
   "outputs": [
    {
     "name": "stdout",
     "output_type": "stream",
     "text": [
      "accuracy:  0.8793103448275862\n",
      "precision:  0.8846153846153846\n",
      "recall:  0.8518518518518519\n"
     ]
    }
   ],
   "source": [
    "print(\"accuracy: \", metrics.accuracy_score(y_test, y_predict))\n",
    "print('precision: ', metrics.precision_score(y_test, y_predict))\n",
    "print('recall: ', metrics.recall_score(y_test, y_predict))"
   ]
  },
  {
   "cell_type": "markdown",
   "metadata": {},
   "source": [
    "Accuracy is almost 88%, which is pretty good.\n",
    "\n",
    "A precision rate of .88 means that when the model predicts that someone has heart disease, they have it 88% of the time.\n",
    "\n",
    "Recall .85 = Those with heart diease in the data set are identified 85% of the time."
   ]
  },
  {
   "cell_type": "markdown",
   "metadata": {},
   "source": [
    "ROC curve to explore accuracy (true/false positives)"
   ]
  },
  {
   "cell_type": "code",
   "execution_count": 42,
   "metadata": {},
   "outputs": [
    {
     "data": {
      "image/png": "[encoded data removed]",
      "text/plain": [
       "<Figure size 432x288 with 1 Axes>"
      ]
     },
     "metadata": {
      "needs_background": "light"
     },
     "output_type": "display_data"
    }
   ],
   "source": [
    "y_pred_prob = reg.predict_proba(X_test)[::, 1]\n",
    "fpr, tpr, _ = metrics.roc_curve(y_test, y_pred_prob)\n",
    "\n",
    "auc = metrics.roc_auc_score(y_test, y_pred_prob)\n",
    "\n",
    "plt.plot(fpr, tpr, label = \"data 1, auc\"+str(auc))\n",
    "plt.legend(loc=4)\n",
    "plt.show()"
   ]
  },
  {
   "cell_type": "markdown",
   "metadata": {},
   "source": [
    "auc is .90, so it's a good classifier (1 is perfect)"
   ]
  },
  {
   "cell_type": "markdown",
   "metadata": {},
   "source": [
    "Conclusion: The accuracy of this model is pretty high with all the variables as features. However, some features didn't seem like they would be very predictive based on the exploratory data analysis, so I will run a logistic regression analysis to see the p-values/coefficients associated with each feature."
   ]
  },
  {
   "cell_type": "code",
   "execution_count": 60,
   "metadata": {},
   "outputs": [],
   "source": [
    "import statsmodels.formula.api as smf"
   ]
  },
  {
   "cell_type": "code",
   "execution_count": 79,
   "metadata": {},
   "outputs": [
    {
     "name": "stdout",
     "output_type": "stream",
     "text": [
      "Optimization terminated successfully.\n",
      "         Current function value: 0.318247\n",
      "         Iterations 8\n"
     ]
    },
    {
     "data": {
      "text/html": [
       "<table class=\"simpletable\">\n",
       "<caption>Logit Regression Results</caption>\n",
       "<tr>\n",
       "  <th>Dep. Variable:</th>        <td>target</td>      <th>  No. Observations:  </th>  <td>   232</td>  \n",
       "</tr>\n",
       "<tr>\n",
       "  <th>Model:</th>                 <td>Logit</td>      <th>  Df Residuals:      </th>  <td>   219</td>  \n",
       "</tr>\n",
       "<tr>\n",
       "  <th>Method:</th>                 <td>MLE</td>       <th>  Df Model:          </th>  <td>    12</td>  \n",
       "</tr>\n",
       "<tr>\n",
       "  <th>Date:</th>            <td>Sat, 14 Dec 2019</td> <th>  Pseudo R-squ.:     </th>  <td>0.5308</td>  \n",
       "</tr>\n",
       "<tr>\n",
       "  <th>Time:</th>                <td>16:10:44</td>     <th>  Log-Likelihood:    </th> <td> -73.833</td> \n",
       "</tr>\n",
       "<tr>\n",
       "  <th>converged:</th>             <td>True</td>       <th>  LL-Null:           </th> <td> -157.34</td> \n",
       "</tr>\n",
       "<tr>\n",
       "  <th>Covariance Type:</th>     <td>nonrobust</td>    <th>  LLR p-value:       </th> <td>1.939e-29</td>\n",
       "</tr>\n",
       "</table>\n",
       "<table class=\"simpletable\">\n",
       "<tr>\n",
       "      <td></td>         <th>coef</th>     <th>std err</th>      <th>z</th>      <th>P>|z|</th>  <th>[0.025</th>    <th>0.975]</th>  \n",
       "</tr>\n",
       "<tr>\n",
       "  <th>Intercept</th> <td>   -5.1162</td> <td>    3.429</td> <td>   -1.492</td> <td> 0.136</td> <td>  -11.838</td> <td>    1.605</td>\n",
       "</tr>\n",
       "<tr>\n",
       "  <th>age</th>       <td>   -0.0182</td> <td>    0.028</td> <td>   -0.655</td> <td> 0.512</td> <td>   -0.073</td> <td>    0.036</td>\n",
       "</tr>\n",
       "<tr>\n",
       "  <th>sex</th>       <td>    1.9479</td> <td>    0.564</td> <td>    3.451</td> <td> 0.001</td> <td>    0.842</td> <td>    3.054</td>\n",
       "</tr>\n",
       "<tr>\n",
       "  <th>cp</th>        <td>   -0.8077</td> <td>    0.222</td> <td>   -3.639</td> <td> 0.000</td> <td>   -1.243</td> <td>   -0.373</td>\n",
       "</tr>\n",
       "<tr>\n",
       "  <th>trestbps</th>  <td>    0.0271</td> <td>    0.014</td> <td>    1.926</td> <td> 0.054</td> <td>   -0.000</td> <td>    0.055</td>\n",
       "</tr>\n",
       "<tr>\n",
       "  <th>chol</th>      <td>    0.0062</td> <td>    0.005</td> <td>    1.131</td> <td> 0.258</td> <td>   -0.005</td> <td>    0.017</td>\n",
       "</tr>\n",
       "<tr>\n",
       "  <th>restecg</th>   <td>   -0.3567</td> <td>    0.423</td> <td>   -0.842</td> <td> 0.400</td> <td>   -1.187</td> <td>    0.473</td>\n",
       "</tr>\n",
       "<tr>\n",
       "  <th>thalach</th>   <td>   -0.0225</td> <td>    0.013</td> <td>   -1.737</td> <td> 0.082</td> <td>   -0.048</td> <td>    0.003</td>\n",
       "</tr>\n",
       "<tr>\n",
       "  <th>exang</th>     <td>    0.5895</td> <td>    0.503</td> <td>    1.171</td> <td> 0.242</td> <td>   -0.397</td> <td>    1.576</td>\n",
       "</tr>\n",
       "<tr>\n",
       "  <th>oldpeak</th>   <td>    0.4931</td> <td>    0.268</td> <td>    1.837</td> <td> 0.066</td> <td>   -0.033</td> <td>    1.019</td>\n",
       "</tr>\n",
       "<tr>\n",
       "  <th>slope</th>     <td>   -0.8961</td> <td>    0.420</td> <td>   -2.136</td> <td> 0.033</td> <td>   -1.719</td> <td>   -0.074</td>\n",
       "</tr>\n",
       "<tr>\n",
       "  <th>ca</th>        <td>    1.6526</td> <td>    0.375</td> <td>    4.407</td> <td> 0.000</td> <td>    0.918</td> <td>    2.388</td>\n",
       "</tr>\n",
       "<tr>\n",
       "  <th>thal</th>      <td>    1.5563</td> <td>    0.378</td> <td>    4.123</td> <td> 0.000</td> <td>    0.816</td> <td>    2.296</td>\n",
       "</tr>\n",
       "</table>"
      ],
      "text/plain": [
       "<class 'statsmodels.iolib.summary.Summary'>\n",
       "\"\"\"\n",
       "                           Logit Regression Results                           \n",
       "==============================================================================\n",
       "Dep. Variable:                 target   No. Observations:                  232\n",
       "Model:                          Logit   Df Residuals:                      219\n",
       "Method:                           MLE   Df Model:                           12\n",
       "Date:                Sat, 14 Dec 2019   Pseudo R-squ.:                  0.5308\n",
       "Time:                        16:10:44   Log-Likelihood:                -73.833\n",
       "converged:                       True   LL-Null:                       -157.34\n",
       "Covariance Type:            nonrobust   LLR p-value:                 1.939e-29\n",
       "==============================================================================\n",
       "                 coef    std err          z      P>|z|      [0.025      0.975]\n",
       "------------------------------------------------------------------------------\n",
       "Intercept     -5.1162      3.429     -1.492      0.136     -11.838       1.605\n",
       "age           -0.0182      0.028     -0.655      0.512      -0.073       0.036\n",
       "sex            1.9479      0.564      3.451      0.001       0.842       3.054\n",
       "cp            -0.8077      0.222     -3.639      0.000      -1.243      -0.373\n",
       "trestbps       0.0271      0.014      1.926      0.054      -0.000       0.055\n",
       "chol           0.0062      0.005      1.131      0.258      -0.005       0.017\n",
       "restecg       -0.3567      0.423     -0.842      0.400      -1.187       0.473\n",
       "thalach       -0.0225      0.013     -1.737      0.082      -0.048       0.003\n",
       "exang          0.5895      0.503      1.171      0.242      -0.397       1.576\n",
       "oldpeak        0.4931      0.268      1.837      0.066      -0.033       1.019\n",
       "slope         -0.8961      0.420     -2.136      0.033      -1.719      -0.074\n",
       "ca             1.6526      0.375      4.407      0.000       0.918       2.388\n",
       "thal           1.5563      0.378      4.123      0.000       0.816       2.296\n",
       "==============================================================================\n",
       "\"\"\""
      ]
     },
     "execution_count": 79,
     "metadata": {},
     "output_type": "execute_result"
    }
   ],
   "source": [
    "model = smf.logit(\n",
    "    formula=\"target ~ age + \\\n",
    "    sex + cp + trestbps + chol+ restecg + \\\n",
    "                  thalach + exang + oldpeak + \\\n",
    "                  slope + ca + thal\", data = heart_data).fit()\n",
    "model.summary()"
   ]
  },
  {
   "cell_type": "markdown",
   "metadata": {},
   "source": [
    "With all features the psuedo-R-square is ~.53\n",
    "\n",
    "I'm going to run this analysis again dropping age, which has the highest p-value (and is not sig)"
   ]
  },
  {
   "cell_type": "code",
   "execution_count": 81,
   "metadata": {},
   "outputs": [
    {
     "name": "stdout",
     "output_type": "stream",
     "text": [
      "Optimization terminated successfully.\n",
      "         Current function value: 0.319178\n",
      "         Iterations 8\n"
     ]
    },
    {
     "data": {
      "text/html": [
       "<table class=\"simpletable\">\n",
       "<caption>Logit Regression Results</caption>\n",
       "<tr>\n",
       "  <th>Dep. Variable:</th>        <td>target</td>      <th>  No. Observations:  </th>  <td>   232</td>  \n",
       "</tr>\n",
       "<tr>\n",
       "  <th>Model:</th>                 <td>Logit</td>      <th>  Df Residuals:      </th>  <td>   220</td>  \n",
       "</tr>\n",
       "<tr>\n",
       "  <th>Method:</th>                 <td>MLE</td>       <th>  Df Model:          </th>  <td>    11</td>  \n",
       "</tr>\n",
       "<tr>\n",
       "  <th>Date:</th>            <td>Sat, 14 Dec 2019</td> <th>  Pseudo R-squ.:     </th>  <td>0.5294</td>  \n",
       "</tr>\n",
       "<tr>\n",
       "  <th>Time:</th>                <td>16:11:24</td>     <th>  Log-Likelihood:    </th> <td> -74.049</td> \n",
       "</tr>\n",
       "<tr>\n",
       "  <th>converged:</th>             <td>True</td>       <th>  LL-Null:           </th> <td> -157.34</td> \n",
       "</tr>\n",
       "<tr>\n",
       "  <th>Covariance Type:</th>     <td>nonrobust</td>    <th>  LLR p-value:       </th> <td>5.930e-30</td>\n",
       "</tr>\n",
       "</table>\n",
       "<table class=\"simpletable\">\n",
       "<tr>\n",
       "      <td></td>         <th>coef</th>     <th>std err</th>      <th>z</th>      <th>P>|z|</th>  <th>[0.025</th>    <th>0.975]</th>  \n",
       "</tr>\n",
       "<tr>\n",
       "  <th>Intercept</th> <td>   -6.2903</td> <td>    2.940</td> <td>   -2.140</td> <td> 0.032</td> <td>  -12.053</td> <td>   -0.528</td>\n",
       "</tr>\n",
       "<tr>\n",
       "  <th>sex</th>       <td>    1.9991</td> <td>    0.560</td> <td>    3.570</td> <td> 0.000</td> <td>    0.901</td> <td>    3.097</td>\n",
       "</tr>\n",
       "<tr>\n",
       "  <th>cp</th>        <td>   -0.8105</td> <td>    0.222</td> <td>   -3.659</td> <td> 0.000</td> <td>   -1.245</td> <td>   -0.376</td>\n",
       "</tr>\n",
       "<tr>\n",
       "  <th>trestbps</th>  <td>    0.0249</td> <td>    0.014</td> <td>    1.829</td> <td> 0.067</td> <td>   -0.002</td> <td>    0.052</td>\n",
       "</tr>\n",
       "<tr>\n",
       "  <th>chol</th>      <td>    0.0061</td> <td>    0.005</td> <td>    1.127</td> <td> 0.260</td> <td>   -0.005</td> <td>    0.017</td>\n",
       "</tr>\n",
       "<tr>\n",
       "  <th>restecg</th>   <td>   -0.3412</td> <td>    0.421</td> <td>   -0.810</td> <td> 0.418</td> <td>   -1.167</td> <td>    0.484</td>\n",
       "</tr>\n",
       "<tr>\n",
       "  <th>thalach</th>   <td>   -0.0194</td> <td>    0.012</td> <td>   -1.621</td> <td> 0.105</td> <td>   -0.043</td> <td>    0.004</td>\n",
       "</tr>\n",
       "<tr>\n",
       "  <th>exang</th>     <td>    0.6193</td> <td>    0.499</td> <td>    1.242</td> <td> 0.214</td> <td>   -0.358</td> <td>    1.597</td>\n",
       "</tr>\n",
       "<tr>\n",
       "  <th>oldpeak</th>   <td>    0.5146</td> <td>    0.266</td> <td>    1.935</td> <td> 0.053</td> <td>   -0.007</td> <td>    1.036</td>\n",
       "</tr>\n",
       "<tr>\n",
       "  <th>slope</th>     <td>   -0.8899</td> <td>    0.418</td> <td>   -2.130</td> <td> 0.033</td> <td>   -1.709</td> <td>   -0.071</td>\n",
       "</tr>\n",
       "<tr>\n",
       "  <th>ca</th>        <td>    1.5764</td> <td>    0.354</td> <td>    4.452</td> <td> 0.000</td> <td>    0.882</td> <td>    2.270</td>\n",
       "</tr>\n",
       "<tr>\n",
       "  <th>thal</th>      <td>    1.5382</td> <td>    0.373</td> <td>    4.119</td> <td> 0.000</td> <td>    0.806</td> <td>    2.270</td>\n",
       "</tr>\n",
       "</table>"
      ],
      "text/plain": [
       "<class 'statsmodels.iolib.summary.Summary'>\n",
       "\"\"\"\n",
       "                           Logit Regression Results                           \n",
       "==============================================================================\n",
       "Dep. Variable:                 target   No. Observations:                  232\n",
       "Model:                          Logit   Df Residuals:                      220\n",
       "Method:                           MLE   Df Model:                           11\n",
       "Date:                Sat, 14 Dec 2019   Pseudo R-squ.:                  0.5294\n",
       "Time:                        16:11:24   Log-Likelihood:                -74.049\n",
       "converged:                       True   LL-Null:                       -157.34\n",
       "Covariance Type:            nonrobust   LLR p-value:                 5.930e-30\n",
       "==============================================================================\n",
       "                 coef    std err          z      P>|z|      [0.025      0.975]\n",
       "------------------------------------------------------------------------------\n",
       "Intercept     -6.2903      2.940     -2.140      0.032     -12.053      -0.528\n",
       "sex            1.9991      0.560      3.570      0.000       0.901       3.097\n",
       "cp            -0.8105      0.222     -3.659      0.000      -1.245      -0.376\n",
       "trestbps       0.0249      0.014      1.829      0.067      -0.002       0.052\n",
       "chol           0.0061      0.005      1.127      0.260      -0.005       0.017\n",
       "restecg       -0.3412      0.421     -0.810      0.418      -1.167       0.484\n",
       "thalach       -0.0194      0.012     -1.621      0.105      -0.043       0.004\n",
       "exang          0.6193      0.499      1.242      0.214      -0.358       1.597\n",
       "oldpeak        0.5146      0.266      1.935      0.053      -0.007       1.036\n",
       "slope         -0.8899      0.418     -2.130      0.033      -1.709      -0.071\n",
       "ca             1.5764      0.354      4.452      0.000       0.882       2.270\n",
       "thal           1.5382      0.373      4.119      0.000       0.806       2.270\n",
       "==============================================================================\n",
       "\"\"\""
      ]
     },
     "execution_count": 81,
     "metadata": {},
     "output_type": "execute_result"
    }
   ],
   "source": [
    "model = smf.logit(\n",
    "    formula=\"target ~ \\\n",
    "    sex + cp + trestbps + chol+ restecg + \\\n",
    "                  thalach + exang + oldpeak + \\\n",
    "                  slope + ca + thal\", data = heart_data).fit()\n",
    "model.summary()"
   ]
  },
  {
   "cell_type": "markdown",
   "metadata": {},
   "source": [
    "R-squared is about the same without restecg; will drop the current highest p-value feature: restecg"
   ]
  },
  {
   "cell_type": "code",
   "execution_count": 82,
   "metadata": {},
   "outputs": [
    {
     "name": "stdout",
     "output_type": "stream",
     "text": [
      "Optimization terminated successfully.\n",
      "         Current function value: 0.320597\n",
      "         Iterations 8\n"
     ]
    },
    {
     "data": {
      "text/html": [
       "<table class=\"simpletable\">\n",
       "<caption>Logit Regression Results</caption>\n",
       "<tr>\n",
       "  <th>Dep. Variable:</th>        <td>target</td>      <th>  No. Observations:  </th>  <td>   232</td>  \n",
       "</tr>\n",
       "<tr>\n",
       "  <th>Model:</th>                 <td>Logit</td>      <th>  Df Residuals:      </th>  <td>   221</td>  \n",
       "</tr>\n",
       "<tr>\n",
       "  <th>Method:</th>                 <td>MLE</td>       <th>  Df Model:          </th>  <td>    10</td>  \n",
       "</tr>\n",
       "<tr>\n",
       "  <th>Date:</th>            <td>Sat, 14 Dec 2019</td> <th>  Pseudo R-squ.:     </th>  <td>0.5273</td>  \n",
       "</tr>\n",
       "<tr>\n",
       "  <th>Time:</th>                <td>16:11:51</td>     <th>  Log-Likelihood:    </th> <td> -74.379</td> \n",
       "</tr>\n",
       "<tr>\n",
       "  <th>converged:</th>             <td>True</td>       <th>  LL-Null:           </th> <td> -157.34</td> \n",
       "</tr>\n",
       "<tr>\n",
       "  <th>Covariance Type:</th>     <td>nonrobust</td>    <th>  LLR p-value:       </th> <td>1.927e-30</td>\n",
       "</tr>\n",
       "</table>\n",
       "<table class=\"simpletable\">\n",
       "<tr>\n",
       "      <td></td>         <th>coef</th>     <th>std err</th>      <th>z</th>      <th>P>|z|</th>  <th>[0.025</th>    <th>0.975]</th>  \n",
       "</tr>\n",
       "<tr>\n",
       "  <th>Intercept</th> <td>   -6.5269</td> <td>    2.909</td> <td>   -2.244</td> <td> 0.025</td> <td>  -12.228</td> <td>   -0.826</td>\n",
       "</tr>\n",
       "<tr>\n",
       "  <th>sex</th>       <td>    2.0641</td> <td>    0.559</td> <td>    3.695</td> <td> 0.000</td> <td>    0.969</td> <td>    3.159</td>\n",
       "</tr>\n",
       "<tr>\n",
       "  <th>cp</th>        <td>   -0.7994</td> <td>    0.220</td> <td>   -3.639</td> <td> 0.000</td> <td>   -1.230</td> <td>   -0.369</td>\n",
       "</tr>\n",
       "<tr>\n",
       "  <th>trestbps</th>  <td>    0.0261</td> <td>    0.014</td> <td>    1.932</td> <td> 0.053</td> <td>   -0.000</td> <td>    0.053</td>\n",
       "</tr>\n",
       "<tr>\n",
       "  <th>chol</th>      <td>    0.0065</td> <td>    0.005</td> <td>    1.200</td> <td> 0.230</td> <td>   -0.004</td> <td>    0.017</td>\n",
       "</tr>\n",
       "<tr>\n",
       "  <th>thalach</th>   <td>   -0.0201</td> <td>    0.012</td> <td>   -1.684</td> <td> 0.092</td> <td>   -0.043</td> <td>    0.003</td>\n",
       "</tr>\n",
       "<tr>\n",
       "  <th>exang</th>     <td>    0.6276</td> <td>    0.500</td> <td>    1.256</td> <td> 0.209</td> <td>   -0.352</td> <td>    1.607</td>\n",
       "</tr>\n",
       "<tr>\n",
       "  <th>oldpeak</th>   <td>    0.4814</td> <td>    0.259</td> <td>    1.856</td> <td> 0.063</td> <td>   -0.027</td> <td>    0.990</td>\n",
       "</tr>\n",
       "<tr>\n",
       "  <th>slope</th>     <td>   -0.9156</td> <td>    0.414</td> <td>   -2.211</td> <td> 0.027</td> <td>   -1.727</td> <td>   -0.104</td>\n",
       "</tr>\n",
       "<tr>\n",
       "  <th>ca</th>        <td>    1.5755</td> <td>    0.351</td> <td>    4.483</td> <td> 0.000</td> <td>    0.887</td> <td>    2.264</td>\n",
       "</tr>\n",
       "<tr>\n",
       "  <th>thal</th>      <td>    1.5027</td> <td>    0.367</td> <td>    4.098</td> <td> 0.000</td> <td>    0.784</td> <td>    2.221</td>\n",
       "</tr>\n",
       "</table>"
      ],
      "text/plain": [
       "<class 'statsmodels.iolib.summary.Summary'>\n",
       "\"\"\"\n",
       "                           Logit Regression Results                           \n",
       "==============================================================================\n",
       "Dep. Variable:                 target   No. Observations:                  232\n",
       "Model:                          Logit   Df Residuals:                      221\n",
       "Method:                           MLE   Df Model:                           10\n",
       "Date:                Sat, 14 Dec 2019   Pseudo R-squ.:                  0.5273\n",
       "Time:                        16:11:51   Log-Likelihood:                -74.379\n",
       "converged:                       True   LL-Null:                       -157.34\n",
       "Covariance Type:            nonrobust   LLR p-value:                 1.927e-30\n",
       "==============================================================================\n",
       "                 coef    std err          z      P>|z|      [0.025      0.975]\n",
       "------------------------------------------------------------------------------\n",
       "Intercept     -6.5269      2.909     -2.244      0.025     -12.228      -0.826\n",
       "sex            2.0641      0.559      3.695      0.000       0.969       3.159\n",
       "cp            -0.7994      0.220     -3.639      0.000      -1.230      -0.369\n",
       "trestbps       0.0261      0.014      1.932      0.053      -0.000       0.053\n",
       "chol           0.0065      0.005      1.200      0.230      -0.004       0.017\n",
       "thalach       -0.0201      0.012     -1.684      0.092      -0.043       0.003\n",
       "exang          0.6276      0.500      1.256      0.209      -0.352       1.607\n",
       "oldpeak        0.4814      0.259      1.856      0.063      -0.027       0.990\n",
       "slope         -0.9156      0.414     -2.211      0.027      -1.727      -0.104\n",
       "ca             1.5755      0.351      4.483      0.000       0.887       2.264\n",
       "thal           1.5027      0.367      4.098      0.000       0.784       2.221\n",
       "==============================================================================\n",
       "\"\"\""
      ]
     },
     "execution_count": 82,
     "metadata": {},
     "output_type": "execute_result"
    }
   ],
   "source": [
    "model = smf.logit(\n",
    "    formula=\"target ~ \\\n",
    "    sex + cp + trestbps + chol+ \\\n",
    "    thalach + exang + oldpeak + \\\n",
    "    slope + ca + thal\", data = heart_data).fit()\n",
    "\n",
    "model.summary()"
   ]
  },
  {
   "cell_type": "markdown",
   "metadata": {},
   "source": [
    "R-squared is still pretty similar; drop next = chol"
   ]
  },
  {
   "cell_type": "code",
   "execution_count": 83,
   "metadata": {},
   "outputs": [
    {
     "name": "stdout",
     "output_type": "stream",
     "text": [
      "Optimization terminated successfully.\n",
      "         Current function value: 0.323731\n",
      "         Iterations 7\n"
     ]
    },
    {
     "data": {
      "text/html": [
       "<table class=\"simpletable\">\n",
       "<caption>Logit Regression Results</caption>\n",
       "<tr>\n",
       "  <th>Dep. Variable:</th>        <td>target</td>      <th>  No. Observations:  </th>  <td>   232</td>  \n",
       "</tr>\n",
       "<tr>\n",
       "  <th>Model:</th>                 <td>Logit</td>      <th>  Df Residuals:      </th>  <td>   222</td>  \n",
       "</tr>\n",
       "<tr>\n",
       "  <th>Method:</th>                 <td>MLE</td>       <th>  Df Model:          </th>  <td>     9</td>  \n",
       "</tr>\n",
       "<tr>\n",
       "  <th>Date:</th>            <td>Sat, 14 Dec 2019</td> <th>  Pseudo R-squ.:     </th>  <td>0.5227</td>  \n",
       "</tr>\n",
       "<tr>\n",
       "  <th>Time:</th>                <td>16:14:39</td>     <th>  Log-Likelihood:    </th> <td> -75.105</td> \n",
       "</tr>\n",
       "<tr>\n",
       "  <th>converged:</th>             <td>True</td>       <th>  LL-Null:           </th> <td> -157.34</td> \n",
       "</tr>\n",
       "<tr>\n",
       "  <th>Covariance Type:</th>     <td>nonrobust</td>    <th>  LLR p-value:       </th> <td>8.706e-31</td>\n",
       "</tr>\n",
       "</table>\n",
       "<table class=\"simpletable\">\n",
       "<tr>\n",
       "      <td></td>         <th>coef</th>     <th>std err</th>      <th>z</th>      <th>P>|z|</th>  <th>[0.025</th>    <th>0.975]</th>  \n",
       "</tr>\n",
       "<tr>\n",
       "  <th>Intercept</th> <td>   -5.1838</td> <td>    2.614</td> <td>   -1.983</td> <td> 0.047</td> <td>  -10.308</td> <td>   -0.060</td>\n",
       "</tr>\n",
       "<tr>\n",
       "  <th>sex</th>       <td>    1.9631</td> <td>    0.542</td> <td>    3.625</td> <td> 0.000</td> <td>    0.902</td> <td>    3.025</td>\n",
       "</tr>\n",
       "<tr>\n",
       "  <th>cp</th>        <td>   -0.8028</td> <td>    0.218</td> <td>   -3.688</td> <td> 0.000</td> <td>   -1.229</td> <td>   -0.376</td>\n",
       "</tr>\n",
       "<tr>\n",
       "  <th>trestbps</th>  <td>    0.0273</td> <td>    0.013</td> <td>    2.026</td> <td> 0.043</td> <td>    0.001</td> <td>    0.054</td>\n",
       "</tr>\n",
       "<tr>\n",
       "  <th>thalach</th>   <td>   -0.0193</td> <td>    0.012</td> <td>   -1.645</td> <td> 0.100</td> <td>   -0.042</td> <td>    0.004</td>\n",
       "</tr>\n",
       "<tr>\n",
       "  <th>exang</th>     <td>    0.6163</td> <td>    0.491</td> <td>    1.255</td> <td> 0.210</td> <td>   -0.347</td> <td>    1.579</td>\n",
       "</tr>\n",
       "<tr>\n",
       "  <th>oldpeak</th>   <td>    0.4651</td> <td>    0.257</td> <td>    1.808</td> <td> 0.071</td> <td>   -0.039</td> <td>    0.969</td>\n",
       "</tr>\n",
       "<tr>\n",
       "  <th>slope</th>     <td>   -0.9121</td> <td>    0.412</td> <td>   -2.213</td> <td> 0.027</td> <td>   -1.720</td> <td>   -0.104</td>\n",
       "</tr>\n",
       "<tr>\n",
       "  <th>ca</th>        <td>    1.5853</td> <td>    0.347</td> <td>    4.575</td> <td> 0.000</td> <td>    0.906</td> <td>    2.265</td>\n",
       "</tr>\n",
       "<tr>\n",
       "  <th>thal</th>      <td>    1.5224</td> <td>    0.364</td> <td>    4.188</td> <td> 0.000</td> <td>    0.810</td> <td>    2.235</td>\n",
       "</tr>\n",
       "</table>"
      ],
      "text/plain": [
       "<class 'statsmodels.iolib.summary.Summary'>\n",
       "\"\"\"\n",
       "                           Logit Regression Results                           \n",
       "==============================================================================\n",
       "Dep. Variable:                 target   No. Observations:                  232\n",
       "Model:                          Logit   Df Residuals:                      222\n",
       "Method:                           MLE   Df Model:                            9\n",
       "Date:                Sat, 14 Dec 2019   Pseudo R-squ.:                  0.5227\n",
       "Time:                        16:14:39   Log-Likelihood:                -75.105\n",
       "converged:                       True   LL-Null:                       -157.34\n",
       "Covariance Type:            nonrobust   LLR p-value:                 8.706e-31\n",
       "==============================================================================\n",
       "                 coef    std err          z      P>|z|      [0.025      0.975]\n",
       "------------------------------------------------------------------------------\n",
       "Intercept     -5.1838      2.614     -1.983      0.047     -10.308      -0.060\n",
       "sex            1.9631      0.542      3.625      0.000       0.902       3.025\n",
       "cp            -0.8028      0.218     -3.688      0.000      -1.229      -0.376\n",
       "trestbps       0.0273      0.013      2.026      0.043       0.001       0.054\n",
       "thalach       -0.0193      0.012     -1.645      0.100      -0.042       0.004\n",
       "exang          0.6163      0.491      1.255      0.210      -0.347       1.579\n",
       "oldpeak        0.4651      0.257      1.808      0.071      -0.039       0.969\n",
       "slope         -0.9121      0.412     -2.213      0.027      -1.720      -0.104\n",
       "ca             1.5853      0.347      4.575      0.000       0.906       2.265\n",
       "thal           1.5224      0.364      4.188      0.000       0.810       2.235\n",
       "==============================================================================\n",
       "\"\"\""
      ]
     },
     "execution_count": 83,
     "metadata": {},
     "output_type": "execute_result"
    }
   ],
   "source": [
    "model = smf.logit(\n",
    "    formula=\"target ~ \\\n",
    "    sex + cp + trestbps + \\\n",
    "    thalach + exang + oldpeak + \\\n",
    "    slope + ca + thal\", data = heart_data).fit()\n",
    "\n",
    "model.summary()"
   ]
  },
  {
   "cell_type": "markdown",
   "metadata": {},
   "source": [
    "Still pretty similar...drop exang"
   ]
  },
  {
   "cell_type": "code",
   "execution_count": 84,
   "metadata": {},
   "outputs": [
    {
     "name": "stdout",
     "output_type": "stream",
     "text": [
      "Optimization terminated successfully.\n",
      "         Current function value: 0.327082\n",
      "         Iterations 7\n"
     ]
    },
    {
     "data": {
      "text/html": [
       "<table class=\"simpletable\">\n",
       "<caption>Logit Regression Results</caption>\n",
       "<tr>\n",
       "  <th>Dep. Variable:</th>        <td>target</td>      <th>  No. Observations:  </th>  <td>   232</td>  \n",
       "</tr>\n",
       "<tr>\n",
       "  <th>Model:</th>                 <td>Logit</td>      <th>  Df Residuals:      </th>  <td>   223</td>  \n",
       "</tr>\n",
       "<tr>\n",
       "  <th>Method:</th>                 <td>MLE</td>       <th>  Df Model:          </th>  <td>     8</td>  \n",
       "</tr>\n",
       "<tr>\n",
       "  <th>Date:</th>            <td>Sat, 14 Dec 2019</td> <th>  Pseudo R-squ.:     </th>  <td>0.5177</td>  \n",
       "</tr>\n",
       "<tr>\n",
       "  <th>Time:</th>                <td>16:15:15</td>     <th>  Log-Likelihood:    </th> <td> -75.883</td> \n",
       "</tr>\n",
       "<tr>\n",
       "  <th>converged:</th>             <td>True</td>       <th>  LL-Null:           </th> <td> -157.34</td> \n",
       "</tr>\n",
       "<tr>\n",
       "  <th>Covariance Type:</th>     <td>nonrobust</td>    <th>  LLR p-value:       </th> <td>3.913e-31</td>\n",
       "</tr>\n",
       "</table>\n",
       "<table class=\"simpletable\">\n",
       "<tr>\n",
       "      <td></td>         <th>coef</th>     <th>std err</th>      <th>z</th>      <th>P>|z|</th>  <th>[0.025</th>    <th>0.975]</th>  \n",
       "</tr>\n",
       "<tr>\n",
       "  <th>Intercept</th> <td>   -4.4257</td> <td>    2.504</td> <td>   -1.767</td> <td> 0.077</td> <td>   -9.334</td> <td>    0.483</td>\n",
       "</tr>\n",
       "<tr>\n",
       "  <th>sex</th>       <td>    1.9492</td> <td>    0.529</td> <td>    3.683</td> <td> 0.000</td> <td>    0.912</td> <td>    2.986</td>\n",
       "</tr>\n",
       "<tr>\n",
       "  <th>cp</th>        <td>   -0.8650</td> <td>    0.214</td> <td>   -4.034</td> <td> 0.000</td> <td>   -1.285</td> <td>   -0.445</td>\n",
       "</tr>\n",
       "<tr>\n",
       "  <th>trestbps</th>  <td>    0.0263</td> <td>    0.013</td> <td>    1.972</td> <td> 0.049</td> <td>    0.000</td> <td>    0.052</td>\n",
       "</tr>\n",
       "<tr>\n",
       "  <th>thalach</th>   <td>   -0.0227</td> <td>    0.011</td> <td>   -2.011</td> <td> 0.044</td> <td>   -0.045</td> <td>   -0.001</td>\n",
       "</tr>\n",
       "<tr>\n",
       "  <th>oldpeak</th>   <td>    0.5221</td> <td>    0.252</td> <td>    2.074</td> <td> 0.038</td> <td>    0.029</td> <td>    1.016</td>\n",
       "</tr>\n",
       "<tr>\n",
       "  <th>slope</th>     <td>   -0.9241</td> <td>    0.413</td> <td>   -2.240</td> <td> 0.025</td> <td>   -1.733</td> <td>   -0.115</td>\n",
       "</tr>\n",
       "<tr>\n",
       "  <th>ca</th>        <td>    1.5692</td> <td>    0.344</td> <td>    4.558</td> <td> 0.000</td> <td>    0.894</td> <td>    2.244</td>\n",
       "</tr>\n",
       "<tr>\n",
       "  <th>thal</th>      <td>    1.5705</td> <td>    0.360</td> <td>    4.362</td> <td> 0.000</td> <td>    0.865</td> <td>    2.276</td>\n",
       "</tr>\n",
       "</table>"
      ],
      "text/plain": [
       "<class 'statsmodels.iolib.summary.Summary'>\n",
       "\"\"\"\n",
       "                           Logit Regression Results                           \n",
       "==============================================================================\n",
       "Dep. Variable:                 target   No. Observations:                  232\n",
       "Model:                          Logit   Df Residuals:                      223\n",
       "Method:                           MLE   Df Model:                            8\n",
       "Date:                Sat, 14 Dec 2019   Pseudo R-squ.:                  0.5177\n",
       "Time:                        16:15:15   Log-Likelihood:                -75.883\n",
       "converged:                       True   LL-Null:                       -157.34\n",
       "Covariance Type:            nonrobust   LLR p-value:                 3.913e-31\n",
       "==============================================================================\n",
       "                 coef    std err          z      P>|z|      [0.025      0.975]\n",
       "------------------------------------------------------------------------------\n",
       "Intercept     -4.4257      2.504     -1.767      0.077      -9.334       0.483\n",
       "sex            1.9492      0.529      3.683      0.000       0.912       2.986\n",
       "cp            -0.8650      0.214     -4.034      0.000      -1.285      -0.445\n",
       "trestbps       0.0263      0.013      1.972      0.049       0.000       0.052\n",
       "thalach       -0.0227      0.011     -2.011      0.044      -0.045      -0.001\n",
       "oldpeak        0.5221      0.252      2.074      0.038       0.029       1.016\n",
       "slope         -0.9241      0.413     -2.240      0.025      -1.733      -0.115\n",
       "ca             1.5692      0.344      4.558      0.000       0.894       2.244\n",
       "thal           1.5705      0.360      4.362      0.000       0.865       2.276\n",
       "==============================================================================\n",
       "\"\"\""
      ]
     },
     "execution_count": 84,
     "metadata": {},
     "output_type": "execute_result"
    }
   ],
   "source": [
    "model = smf.logit(\n",
    "    formula=\"target ~ \\\n",
    "    sex + cp + trestbps +  \\\n",
    "    thalach + oldpeak + \\\n",
    "    slope + ca + thal\", data = heart_data).fit()\n",
    "\n",
    "model.summary()"
   ]
  },
  {
   "cell_type": "code",
   "execution_count": 85,
   "metadata": {},
   "outputs": [
    {
     "name": "stdout",
     "output_type": "stream",
     "text": [
      "Optimization terminated successfully.\n",
      "         Current function value: 0.335722\n",
      "         Iterations 7\n"
     ]
    },
    {
     "data": {
      "text/html": [
       "<table class=\"simpletable\">\n",
       "<caption>Logit Regression Results</caption>\n",
       "<tr>\n",
       "  <th>Dep. Variable:</th>        <td>target</td>      <th>  No. Observations:  </th>  <td>   232</td>  \n",
       "</tr>\n",
       "<tr>\n",
       "  <th>Model:</th>                 <td>Logit</td>      <th>  Df Residuals:      </th>  <td>   224</td>  \n",
       "</tr>\n",
       "<tr>\n",
       "  <th>Method:</th>                 <td>MLE</td>       <th>  Df Model:          </th>  <td>     7</td>  \n",
       "</tr>\n",
       "<tr>\n",
       "  <th>Date:</th>            <td>Sat, 14 Dec 2019</td> <th>  Pseudo R-squ.:     </th>  <td>0.5050</td>  \n",
       "</tr>\n",
       "<tr>\n",
       "  <th>Time:</th>                <td>16:16:05</td>     <th>  Log-Likelihood:    </th> <td> -77.887</td> \n",
       "</tr>\n",
       "<tr>\n",
       "  <th>converged:</th>             <td>True</td>       <th>  LL-Null:           </th> <td> -157.34</td> \n",
       "</tr>\n",
       "<tr>\n",
       "  <th>Covariance Type:</th>     <td>nonrobust</td>    <th>  LLR p-value:       </th> <td>5.429e-31</td>\n",
       "</tr>\n",
       "</table>\n",
       "<table class=\"simpletable\">\n",
       "<tr>\n",
       "      <td></td>         <th>coef</th>     <th>std err</th>      <th>z</th>      <th>P>|z|</th>  <th>[0.025</th>    <th>0.975]</th>  \n",
       "</tr>\n",
       "<tr>\n",
       "  <th>Intercept</th> <td>   -1.2600</td> <td>    1.838</td> <td>   -0.686</td> <td> 0.493</td> <td>   -4.862</td> <td>    2.342</td>\n",
       "</tr>\n",
       "<tr>\n",
       "  <th>sex</th>       <td>    1.8139</td> <td>    0.513</td> <td>    3.537</td> <td> 0.000</td> <td>    0.809</td> <td>    2.819</td>\n",
       "</tr>\n",
       "<tr>\n",
       "  <th>cp</th>        <td>   -0.7860</td> <td>    0.207</td> <td>   -3.805</td> <td> 0.000</td> <td>   -1.191</td> <td>   -0.381</td>\n",
       "</tr>\n",
       "<tr>\n",
       "  <th>thalach</th>   <td>   -0.0214</td> <td>    0.011</td> <td>   -1.961</td> <td> 0.050</td> <td>   -0.043</td> <td>-1.52e-05</td>\n",
       "</tr>\n",
       "<tr>\n",
       "  <th>oldpeak</th>   <td>    0.5626</td> <td>    0.253</td> <td>    2.222</td> <td> 0.026</td> <td>    0.066</td> <td>    1.059</td>\n",
       "</tr>\n",
       "<tr>\n",
       "  <th>slope</th>     <td>   -0.8314</td> <td>    0.410</td> <td>   -2.029</td> <td> 0.042</td> <td>   -1.634</td> <td>   -0.028</td>\n",
       "</tr>\n",
       "<tr>\n",
       "  <th>ca</th>        <td>    1.4975</td> <td>    0.337</td> <td>    4.441</td> <td> 0.000</td> <td>    0.837</td> <td>    2.158</td>\n",
       "</tr>\n",
       "<tr>\n",
       "  <th>thal</th>      <td>    1.5325</td> <td>    0.352</td> <td>    4.349</td> <td> 0.000</td> <td>    0.842</td> <td>    2.223</td>\n",
       "</tr>\n",
       "</table>"
      ],
      "text/plain": [
       "<class 'statsmodels.iolib.summary.Summary'>\n",
       "\"\"\"\n",
       "                           Logit Regression Results                           \n",
       "==============================================================================\n",
       "Dep. Variable:                 target   No. Observations:                  232\n",
       "Model:                          Logit   Df Residuals:                      224\n",
       "Method:                           MLE   Df Model:                            7\n",
       "Date:                Sat, 14 Dec 2019   Pseudo R-squ.:                  0.5050\n",
       "Time:                        16:16:05   Log-Likelihood:                -77.887\n",
       "converged:                       True   LL-Null:                       -157.34\n",
       "Covariance Type:            nonrobust   LLR p-value:                 5.429e-31\n",
       "==============================================================================\n",
       "                 coef    std err          z      P>|z|      [0.025      0.975]\n",
       "------------------------------------------------------------------------------\n",
       "Intercept     -1.2600      1.838     -0.686      0.493      -4.862       2.342\n",
       "sex            1.8139      0.513      3.537      0.000       0.809       2.819\n",
       "cp            -0.7860      0.207     -3.805      0.000      -1.191      -0.381\n",
       "thalach       -0.0214      0.011     -1.961      0.050      -0.043   -1.52e-05\n",
       "oldpeak        0.5626      0.253      2.222      0.026       0.066       1.059\n",
       "slope         -0.8314      0.410     -2.029      0.042      -1.634      -0.028\n",
       "ca             1.4975      0.337      4.441      0.000       0.837       2.158\n",
       "thal           1.5325      0.352      4.349      0.000       0.842       2.223\n",
       "==============================================================================\n",
       "\"\"\""
      ]
     },
     "execution_count": 85,
     "metadata": {},
     "output_type": "execute_result"
    }
   ],
   "source": [
    "model = smf.logit(\n",
    "    formula=\"target ~ sex + cp + \\\n",
    "    thalach + oldpeak + \\\n",
    "    slope + ca + thal\", data = heart_data).fit()\n",
    "\n",
    "model.summary()"
   ]
  },
  {
   "cell_type": "code",
   "execution_count": 86,
   "metadata": {},
   "outputs": [
    {
     "name": "stdout",
     "output_type": "stream",
     "text": [
      "Optimization terminated successfully.\n",
      "         Current function value: 0.344779\n",
      "         Iterations 7\n"
     ]
    },
    {
     "data": {
      "text/html": [
       "<table class=\"simpletable\">\n",
       "<caption>Logit Regression Results</caption>\n",
       "<tr>\n",
       "  <th>Dep. Variable:</th>        <td>target</td>      <th>  No. Observations:  </th>  <td>   232</td>  \n",
       "</tr>\n",
       "<tr>\n",
       "  <th>Model:</th>                 <td>Logit</td>      <th>  Df Residuals:      </th>  <td>   225</td>  \n",
       "</tr>\n",
       "<tr>\n",
       "  <th>Method:</th>                 <td>MLE</td>       <th>  Df Model:          </th>  <td>     6</td>  \n",
       "</tr>\n",
       "<tr>\n",
       "  <th>Date:</th>            <td>Sat, 14 Dec 2019</td> <th>  Pseudo R-squ.:     </th>  <td>0.4916</td>  \n",
       "</tr>\n",
       "<tr>\n",
       "  <th>Time:</th>                <td>16:17:18</td>     <th>  Log-Likelihood:    </th> <td> -79.989</td> \n",
       "</tr>\n",
       "<tr>\n",
       "  <th>converged:</th>             <td>True</td>       <th>  LL-Null:           </th> <td> -157.34</td> \n",
       "</tr>\n",
       "<tr>\n",
       "  <th>Covariance Type:</th>     <td>nonrobust</td>    <th>  LLR p-value:       </th> <td>7.797e-31</td>\n",
       "</tr>\n",
       "</table>\n",
       "<table class=\"simpletable\">\n",
       "<tr>\n",
       "      <td></td>         <th>coef</th>     <th>std err</th>      <th>z</th>      <th>P>|z|</th>  <th>[0.025</th>    <th>0.975]</th>  \n",
       "</tr>\n",
       "<tr>\n",
       "  <th>Intercept</th> <td>   -1.7847</td> <td>    1.791</td> <td>   -0.997</td> <td> 0.319</td> <td>   -5.294</td> <td>    1.725</td>\n",
       "</tr>\n",
       "<tr>\n",
       "  <th>sex</th>       <td>    1.6776</td> <td>    0.495</td> <td>    3.386</td> <td> 0.001</td> <td>    0.707</td> <td>    2.649</td>\n",
       "</tr>\n",
       "<tr>\n",
       "  <th>cp</th>        <td>   -0.7682</td> <td>    0.202</td> <td>   -3.807</td> <td> 0.000</td> <td>   -1.164</td> <td>   -0.373</td>\n",
       "</tr>\n",
       "<tr>\n",
       "  <th>thalach</th>   <td>   -0.0264</td> <td>    0.010</td> <td>   -2.513</td> <td> 0.012</td> <td>   -0.047</td> <td>   -0.006</td>\n",
       "</tr>\n",
       "<tr>\n",
       "  <th>oldpeak</th>   <td>    0.7981</td> <td>    0.227</td> <td>    3.521</td> <td> 0.000</td> <td>    0.354</td> <td>    1.242</td>\n",
       "</tr>\n",
       "<tr>\n",
       "  <th>ca</th>        <td>    1.3472</td> <td>    0.316</td> <td>    4.262</td> <td> 0.000</td> <td>    0.728</td> <td>    1.967</td>\n",
       "</tr>\n",
       "<tr>\n",
       "  <th>thal</th>      <td>    1.5328</td> <td>    0.349</td> <td>    4.398</td> <td> 0.000</td> <td>    0.850</td> <td>    2.216</td>\n",
       "</tr>\n",
       "</table>"
      ],
      "text/plain": [
       "<class 'statsmodels.iolib.summary.Summary'>\n",
       "\"\"\"\n",
       "                           Logit Regression Results                           \n",
       "==============================================================================\n",
       "Dep. Variable:                 target   No. Observations:                  232\n",
       "Model:                          Logit   Df Residuals:                      225\n",
       "Method:                           MLE   Df Model:                            6\n",
       "Date:                Sat, 14 Dec 2019   Pseudo R-squ.:                  0.4916\n",
       "Time:                        16:17:18   Log-Likelihood:                -79.989\n",
       "converged:                       True   LL-Null:                       -157.34\n",
       "Covariance Type:            nonrobust   LLR p-value:                 7.797e-31\n",
       "==============================================================================\n",
       "                 coef    std err          z      P>|z|      [0.025      0.975]\n",
       "------------------------------------------------------------------------------\n",
       "Intercept     -1.7847      1.791     -0.997      0.319      -5.294       1.725\n",
       "sex            1.6776      0.495      3.386      0.001       0.707       2.649\n",
       "cp            -0.7682      0.202     -3.807      0.000      -1.164      -0.373\n",
       "thalach       -0.0264      0.010     -2.513      0.012      -0.047      -0.006\n",
       "oldpeak        0.7981      0.227      3.521      0.000       0.354       1.242\n",
       "ca             1.3472      0.316      4.262      0.000       0.728       1.967\n",
       "thal           1.5328      0.349      4.398      0.000       0.850       2.216\n",
       "==============================================================================\n",
       "\"\"\""
      ]
     },
     "execution_count": 86,
     "metadata": {},
     "output_type": "execute_result"
    }
   ],
   "source": [
    "model = smf.logit(\n",
    "    formula=\"target ~ sex + cp + \\\n",
    "    thalach + oldpeak + ca + thal\", data = heart_data).fit()\n",
    "\n",
    "model.summary()"
   ]
  },
  {
   "cell_type": "markdown",
   "metadata": {},
   "source": [
    "Dropping slope dropped the R-squared down to under .5 (abitrary cutoff that I decided upon), so I'm going to run the model again with these features only to see if we get a better fit."
   ]
  },
  {
   "cell_type": "code",
   "execution_count": 91,
   "metadata": {},
   "outputs": [
    {
     "name": "stdout",
     "output_type": "stream",
     "text": [
      "accuracy:  0.896551724137931\n",
      "precision:  0.8888888888888888\n",
      "recall:  0.8888888888888888\n"
     ]
    },
    {
     "name": "stderr",
     "output_type": "stream",
     "text": [
      "/Library/Frameworks/Python.framework/Versions/3.7/lib/python3.7/site-packages/sklearn/linear_model/logistic.py:432: FutureWarning: Default solver will be changed to 'lbfgs' in 0.22. Specify a solver to silence this warning.\n",
      "  FutureWarning)\n"
     ]
    }
   ],
   "source": [
    "features = ['oldpeak', 'sex', 'cp', \n",
    "           'thalach', 'slope', 'ca', 'thal']\n",
    "\n",
    "X = heart_data[features]\n",
    "y = heart_data['target']\n",
    "\n",
    "X_train, X_test, y_train, y_test = train_test_split(\n",
    "    X, y, test_size=0.25, random_state=0)\n",
    "\n",
    "reg = LogisticRegression()\n",
    "\n",
    "#fit the model with training data\n",
    "reg.fit(X_train, y_train)\n",
    "\n",
    "y_predict = reg.predict(X_test)\n",
    "\n",
    "print(\"accuracy: \", metrics.accuracy_score(y_test, y_predict))\n",
    "print('precision: ', metrics.precision_score(y_test, y_predict))\n",
    "print('recall: ', metrics.recall_score(y_test, y_predict))"
   ]
  },
  {
   "cell_type": "markdown",
   "metadata": {},
   "source": [
    "The accuracy, precision, and recall are slightly better with fewer features!\n",
    "\n",
    "Here, I was able to increase precision while keeping recall the same, so I kept false positives the same while reducing false negatives by 3%.\n",
    "\n",
    "Just for funsies, checking the accuracy of naive bayes and k-neighbors"
   ]
  },
  {
   "cell_type": "code",
   "execution_count": 92,
   "metadata": {},
   "outputs": [
    {
     "name": "stdout",
     "output_type": "stream",
     "text": [
      "Naive-Bayes accuracy :  0.8620689655172413\n"
     ]
    }
   ],
   "source": [
    "# import the necessary module\n",
    "from sklearn.naive_bayes import GaussianNB\n",
    "from sklearn.metrics import accuracy_score\n",
    "#create an object of the type GaussianNB\n",
    "gnb = GaussianNB()\n",
    "#train the algorithm on training data and predict using the testing data\n",
    "pred = gnb.fit(X_train, y_train).predict(X_test)\n",
    "#print(pred.tolist())\n",
    "#print the accuracy score of the model\n",
    "print(\"Naive-Bayes accuracy : \",accuracy_score(y_test, pred, normalize = True))"
   ]
  },
  {
   "cell_type": "code",
   "execution_count": 93,
   "metadata": {},
   "outputs": [
    {
     "name": "stdout",
     "output_type": "stream",
     "text": [
      "KNeighbors accuracy score :  0.7241379310344828\n"
     ]
    }
   ],
   "source": [
    "#import necessary modules\n",
    "from sklearn.neighbors import KNeighborsClassifier\n",
    "from sklearn.metrics import accuracy_score\n",
    "#create object of the lassifier\n",
    "neigh = KNeighborsClassifier(n_neighbors=3)\n",
    "#Train the algorithm\n",
    "neigh.fit(X_train, y_train)\n",
    "# predict the response\n",
    "pred = neigh.predict(X_test)\n",
    "# evaluate accuracy\n",
    "print (\"KNeighbors accuracy score : \",accuracy_score(y_test, pred))"
   ]
  },
  {
   "cell_type": "code",
   "execution_count": null,
   "metadata": {},
   "outputs": [],
   "source": []
  }
 ],
 "metadata": {
  "kernelspec": {
   "display_name": "Python 3",
   "language": "python",
   "name": "python3"
  },
  "language_info": {
   "codemirror_mode": {
    "name": "ipython",
    "version": 3
   },
   "file_extension": ".py",
   "mimetype": "text/x-python",
   "name": "python",
   "nbconvert_exporter": "python",
   "pygments_lexer": "ipython3",
   "version": "3.7.3"
  }
 },
 "nbformat": 4,
 "nbformat_minor": 2
}
