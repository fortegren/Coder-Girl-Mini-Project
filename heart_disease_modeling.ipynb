{
 "cells": [
  {
   "cell_type": "code",
   "execution_count": 119,
   "metadata": {},
   "outputs": [],
   "source": [
    "import pandas as pd\n",
    "import numpy as np"
   ]
  },
  {
   "cell_type": "code",
   "execution_count": 120,
   "metadata": {},
   "outputs": [],
   "source": [
    "heart_data = pd.read_csv('heart_data_clean.csv')"
   ]
  },
  {
   "cell_type": "markdown",
   "metadata": {},
   "source": [
    "Because the outcome variable (target) is binary, I'm going to use a logistic regression.\n",
    "\n",
    "First, I will split the data into two sets: the target variable and the predictors/features"
   ]
  },
  {
   "cell_type": "code",
   "execution_count": 121,
   "metadata": {},
   "outputs": [],
   "source": [
    "features = ['age', 'sex', 'cp', 'fbs', 'trestbps', 'chol', \n",
    "           'restecg', 'thalach', 'exang', 'oldpeak', \n",
    "           'slope', 'ca', 'thal']\n",
    "\n",
    "X = heart_data[features]\n",
    "y = heart_data['target']"
   ]
  },
  {
   "cell_type": "markdown",
   "metadata": {},
   "source": [
    "The next step is to split the data into training and testing datasets\n",
    "\n",
    "Logistic regression will use scikit learn:\n",
    "\n",
    "> train_test_split\n",
    "\n",
    "> LogisticRegression"
   ]
  },
  {
   "cell_type": "code",
   "execution_count": 122,
   "metadata": {},
   "outputs": [],
   "source": [
    "from sklearn.model_selection import train_test_split"
   ]
  },
  {
   "cell_type": "code",
   "execution_count": 123,
   "metadata": {},
   "outputs": [],
   "source": [
    "#using train test split to train; \n",
    "#test size = 1/4 of the data will be used to test (3/4 for training)\n",
    "#random_state = select test data randomly\n",
    "X_train, X_test, y_train, y_test = train_test_split(\n",
    "    X, y, test_size=0.25, random_state=0)"
   ]
  },
  {
   "cell_type": "code",
   "execution_count": 124,
   "metadata": {},
   "outputs": [],
   "source": [
    "from sklearn.linear_model import LogisticRegression"
   ]
  },
  {
   "cell_type": "code",
   "execution_count": 125,
   "metadata": {},
   "outputs": [
    {
     "name": "stderr",
     "output_type": "stream",
     "text": [
      "/Library/Frameworks/Python.framework/Versions/3.7/lib/python3.7/site-packages/sklearn/linear_model/logistic.py:432: FutureWarning: Default solver will be changed to 'lbfgs' in 0.22. Specify a solver to silence this warning.\n",
      "  FutureWarning)\n"
     ]
    },
    {
     "data": {
      "text/plain": [
       "LogisticRegression(C=1.0, class_weight=None, dual=False, fit_intercept=True,\n",
       "                   intercept_scaling=1, l1_ratio=None, max_iter=100,\n",
       "                   multi_class='warn', n_jobs=None, penalty='l2',\n",
       "                   random_state=None, solver='warn', tol=0.0001, verbose=0,\n",
       "                   warm_start=False)"
      ]
     },
     "execution_count": 125,
     "metadata": {},
     "output_type": "execute_result"
    }
   ],
   "source": [
    "reg = LogisticRegression()\n",
    "\n",
    "#fit the model with training data\n",
    "reg.fit(X_train, y_train)"
   ]
  },
  {
   "cell_type": "code",
   "execution_count": 126,
   "metadata": {},
   "outputs": [],
   "source": [
    "#predict y (target) using test data\n",
    "y_predict = reg.predict(X_test)"
   ]
  },
  {
   "cell_type": "markdown",
   "metadata": {},
   "source": [
    "Now I need to evaluate the model.\n",
    "\n",
    "To do this, I'll use a confusion matrix to compare the predictions (y_predict) to the test data (y_test)"
   ]
  },
  {
   "cell_type": "code",
   "execution_count": 127,
   "metadata": {},
   "outputs": [],
   "source": [
    "from sklearn import metrics"
   ]
  },
  {
   "cell_type": "code",
   "execution_count": 128,
   "metadata": {},
   "outputs": [
    {
     "data": {
      "text/plain": [
       "array([[34,  1],\n",
       "       [ 3, 33]])"
      ]
     },
     "execution_count": 128,
     "metadata": {},
     "output_type": "execute_result"
    }
   ],
   "source": [
    "conf_matrix = metrics.confusion_matrix(y_test, y_predict)\n",
    "conf_matrix"
   ]
  },
  {
   "cell_type": "markdown",
   "metadata": {},
   "source": [
    "34 and 33 are accurate predictions (0, 1)\n",
    "1 and 3 are inaccurate predictions (0, 1)\n",
    "\n",
    "Seems pretty accurate, but let's visualize this matrix."
   ]
  },
  {
   "cell_type": "code",
   "execution_count": 129,
   "metadata": {},
   "outputs": [],
   "source": [
    "import numpy as np\n",
    "import matplotlib.pyplot as plt\n",
    "import seaborn as sns\n",
    "%matplotlib inline"
   ]
  },
  {
   "cell_type": "code",
   "execution_count": 130,
   "metadata": {},
   "outputs": [
    {
     "data": {
      "text/plain": [
       "Text(0.5, 257.44, 'Predicted')"
      ]
     },
     "execution_count": 130,
     "metadata": {},
     "output_type": "execute_result"
    },
    {
     "data": {
      "image/png": "[encoded data removed]",
      "text/plain": [
       "<Figure size 432x288 with 2 Axes>"
      ]
     },
     "metadata": {
      "needs_background": "light"
     },
     "output_type": "display_data"
    }
   ],
   "source": [
    "#Using a heatmap to visualize the confusion matrix\n",
    "\n",
    "class_names = [0, 1]\n",
    "fig, ax = plt.subplots()\n",
    "tick_marks = np.arange(len(class_names))\n",
    "\n",
    "plt.xticks(tick_marks, class_names)\n",
    "plt.yticks(tick_marks, class_names)\n",
    "\n",
    "sns.heatmap(pd.DataFrame(conf_matrix),\n",
    "           annot = True, cmap = 'summer')\n",
    "\n",
    "ax.xaxis.set_label_position('top')\n",
    "\n",
    "plt.tight_layout()\n",
    "\n",
    "plt.title(\"Confusion Matrix\", y=1.1)\n",
    "plt.ylabel('Actual')\n",
    "plt.xlabel('Predicted')"
   ]
  },
  {
   "cell_type": "markdown",
   "metadata": {},
   "source": [
    "To better evaluate the model, I'm going to use accuracy, precision, and recall; "
   ]
  },
  {
   "cell_type": "code",
   "execution_count": 131,
   "metadata": {},
   "outputs": [
    {
     "name": "stdout",
     "output_type": "stream",
     "text": [
      "accuracy:  0.9436619718309859\n",
      "precision:  0.9705882352941176\n",
      "recall:  0.9166666666666666\n"
     ]
    }
   ],
   "source": [
    "print(\"accuracy: \", metrics.accuracy_score(y_test, y_predict))\n",
    "print('precision: ', metrics.precision_score(y_test, y_predict))\n",
    "print('recall: ', metrics.recall_score(y_test, y_predict))"
   ]
  },
  {
   "cell_type": "markdown",
   "metadata": {},
   "source": [
    "Accuracy is 94%.\n",
    "\n",
    "A precision rate of .97 means that when the model predicts that someone has heart disease, they have it 97% of the time. That is, very few (3%) false positives.\n",
    "\n",
    "Recall .92 = Those with heart diease in the data set are identified 92% of the time. That is, 8% false negatives"
   ]
  },
  {
   "cell_type": "markdown",
   "metadata": {},
   "source": [
    "ROC curve to explore accuracy (true/false positives)"
   ]
  },
  {
   "cell_type": "code",
   "execution_count": 132,
   "metadata": {},
   "outputs": [
    {
     "data": {
      "image/png": "[encoded data removed]",
      "text/plain": [
       "<Figure size 432x288 with 1 Axes>"
      ]
     },
     "metadata": {
      "needs_background": "light"
     },
     "output_type": "display_data"
    }
   ],
   "source": [
    "y_pred_prob = reg.predict_proba(X_test)[::, 1]\n",
    "fpr, tpr, _ = metrics.roc_curve(y_test, y_pred_prob)\n",
    "\n",
    "auc = metrics.roc_auc_score(y_test, y_pred_prob)\n",
    "\n",
    "plt.plot(fpr, tpr, label = \"data 1, auc\"+str(auc))\n",
    "plt.legend(loc=4)\n",
    "plt.show()"
   ]
  },
  {
   "cell_type": "markdown",
   "metadata": {},
   "source": [
    "auc is .95, so it's a good classifier (1 is perfect)"
   ]
  },
  {
   "cell_type": "markdown",
   "metadata": {},
   "source": [
    "Conclusion: The accuracy of this model is pretty high with all the variables as features. However, some features didn't seem like they would be very predictive based on the exploratory data analysis, so I will run a logistic regression analysis to see the p-values/coefficients associated with each feature."
   ]
  },
  {
   "cell_type": "code",
   "execution_count": 133,
   "metadata": {},
   "outputs": [],
   "source": [
    "import statsmodels.formula.api as smf"
   ]
  },
  {
   "cell_type": "code",
   "execution_count": 134,
   "metadata": {},
   "outputs": [
    {
     "name": "stdout",
     "output_type": "stream",
     "text": [
      "Optimization terminated successfully.\n",
      "         Current function value: 0.324926\n",
      "         Iterations 8\n"
     ]
    },
    {
     "data": {
      "text/html": [
       "<table class=\"simpletable\">\n",
       "<caption>Logit Regression Results</caption>\n",
       "<tr>\n",
       "  <th>Dep. Variable:</th>        <td>target</td>      <th>  No. Observations:  </th>  <td>   283</td>  \n",
       "</tr>\n",
       "<tr>\n",
       "  <th>Model:</th>                 <td>Logit</td>      <th>  Df Residuals:      </th>  <td>   269</td>  \n",
       "</tr>\n",
       "<tr>\n",
       "  <th>Method:</th>                 <td>MLE</td>       <th>  Df Model:          </th>  <td>    13</td>  \n",
       "</tr>\n",
       "<tr>\n",
       "  <th>Date:</th>            <td>Sat, 14 Dec 2019</td> <th>  Pseudo R-squ.:     </th>  <td>0.5266</td>  \n",
       "</tr>\n",
       "<tr>\n",
       "  <th>Time:</th>                <td>17:38:31</td>     <th>  Log-Likelihood:    </th> <td> -91.954</td> \n",
       "</tr>\n",
       "<tr>\n",
       "  <th>converged:</th>             <td>True</td>       <th>  LL-Null:           </th> <td> -194.23</td> \n",
       "</tr>\n",
       "<tr>\n",
       "  <th>Covariance Type:</th>     <td>nonrobust</td>    <th>  LLR p-value:       </th> <td>1.583e-36</td>\n",
       "</tr>\n",
       "</table>\n",
       "<table class=\"simpletable\">\n",
       "<tr>\n",
       "      <td></td>         <th>coef</th>     <th>std err</th>      <th>z</th>      <th>P>|z|</th>  <th>[0.025</th>    <th>0.975]</th>  \n",
       "</tr>\n",
       "<tr>\n",
       "  <th>Intercept</th> <td>   -4.7992</td> <td>    3.046</td> <td>   -1.576</td> <td> 0.115</td> <td>  -10.769</td> <td>    1.170</td>\n",
       "</tr>\n",
       "<tr>\n",
       "  <th>age</th>       <td>   -0.0092</td> <td>    0.025</td> <td>   -0.365</td> <td> 0.715</td> <td>   -0.058</td> <td>    0.040</td>\n",
       "</tr>\n",
       "<tr>\n",
       "  <th>fbs</th>       <td>   -0.4602</td> <td>    0.592</td> <td>   -0.777</td> <td> 0.437</td> <td>   -1.621</td> <td>    0.700</td>\n",
       "</tr>\n",
       "<tr>\n",
       "  <th>sex</th>       <td>    1.8029</td> <td>    0.504</td> <td>    3.579</td> <td> 0.000</td> <td>    0.816</td> <td>    2.790</td>\n",
       "</tr>\n",
       "<tr>\n",
       "  <th>cp</th>        <td>   -0.7902</td> <td>    0.197</td> <td>   -4.015</td> <td> 0.000</td> <td>   -1.176</td> <td>   -0.404</td>\n",
       "</tr>\n",
       "<tr>\n",
       "  <th>trestbps</th>  <td>    0.0247</td> <td>    0.013</td> <td>    1.921</td> <td> 0.055</td> <td>   -0.000</td> <td>    0.050</td>\n",
       "</tr>\n",
       "<tr>\n",
       "  <th>chol</th>      <td>    0.0081</td> <td>    0.005</td> <td>    1.646</td> <td> 0.100</td> <td>   -0.002</td> <td>    0.018</td>\n",
       "</tr>\n",
       "<tr>\n",
       "  <th>restecg</th>   <td>   -0.5297</td> <td>    0.381</td> <td>   -1.391</td> <td> 0.164</td> <td>   -1.276</td> <td>    0.217</td>\n",
       "</tr>\n",
       "<tr>\n",
       "  <th>thalach</th>   <td>   -0.0232</td> <td>    0.012</td> <td>   -2.009</td> <td> 0.045</td> <td>   -0.046</td> <td>   -0.001</td>\n",
       "</tr>\n",
       "<tr>\n",
       "  <th>exang</th>     <td>    0.8211</td> <td>    0.446</td> <td>    1.839</td> <td> 0.066</td> <td>   -0.054</td> <td>    1.696</td>\n",
       "</tr>\n",
       "<tr>\n",
       "  <th>oldpeak</th>   <td>    0.5738</td> <td>    0.239</td> <td>    2.397</td> <td> 0.017</td> <td>    0.105</td> <td>    1.043</td>\n",
       "</tr>\n",
       "<tr>\n",
       "  <th>slope</th>     <td>   -0.7546</td> <td>    0.373</td> <td>   -2.021</td> <td> 0.043</td> <td>   -1.486</td> <td>   -0.023</td>\n",
       "</tr>\n",
       "<tr>\n",
       "  <th>ca</th>        <td>    1.2650</td> <td>    0.279</td> <td>    4.533</td> <td> 0.000</td> <td>    0.718</td> <td>    1.812</td>\n",
       "</tr>\n",
       "<tr>\n",
       "  <th>thal</th>      <td>    1.1812</td> <td>    0.327</td> <td>    3.610</td> <td> 0.000</td> <td>    0.540</td> <td>    1.822</td>\n",
       "</tr>\n",
       "</table>"
      ],
      "text/plain": [
       "<class 'statsmodels.iolib.summary.Summary'>\n",
       "\"\"\"\n",
       "                           Logit Regression Results                           \n",
       "==============================================================================\n",
       "Dep. Variable:                 target   No. Observations:                  283\n",
       "Model:                          Logit   Df Residuals:                      269\n",
       "Method:                           MLE   Df Model:                           13\n",
       "Date:                Sat, 14 Dec 2019   Pseudo R-squ.:                  0.5266\n",
       "Time:                        17:38:31   Log-Likelihood:                -91.954\n",
       "converged:                       True   LL-Null:                       -194.23\n",
       "Covariance Type:            nonrobust   LLR p-value:                 1.583e-36\n",
       "==============================================================================\n",
       "                 coef    std err          z      P>|z|      [0.025      0.975]\n",
       "------------------------------------------------------------------------------\n",
       "Intercept     -4.7992      3.046     -1.576      0.115     -10.769       1.170\n",
       "age           -0.0092      0.025     -0.365      0.715      -0.058       0.040\n",
       "fbs           -0.4602      0.592     -0.777      0.437      -1.621       0.700\n",
       "sex            1.8029      0.504      3.579      0.000       0.816       2.790\n",
       "cp            -0.7902      0.197     -4.015      0.000      -1.176      -0.404\n",
       "trestbps       0.0247      0.013      1.921      0.055      -0.000       0.050\n",
       "chol           0.0081      0.005      1.646      0.100      -0.002       0.018\n",
       "restecg       -0.5297      0.381     -1.391      0.164      -1.276       0.217\n",
       "thalach       -0.0232      0.012     -2.009      0.045      -0.046      -0.001\n",
       "exang          0.8211      0.446      1.839      0.066      -0.054       1.696\n",
       "oldpeak        0.5738      0.239      2.397      0.017       0.105       1.043\n",
       "slope         -0.7546      0.373     -2.021      0.043      -1.486      -0.023\n",
       "ca             1.2650      0.279      4.533      0.000       0.718       1.812\n",
       "thal           1.1812      0.327      3.610      0.000       0.540       1.822\n",
       "==============================================================================\n",
       "\"\"\""
      ]
     },
     "execution_count": 134,
     "metadata": {},
     "output_type": "execute_result"
    }
   ],
   "source": [
    "model = smf.logit(\n",
    "    formula=\"target ~ age + fbs + \\\n",
    "    sex + cp + trestbps + chol+ restecg + \\\n",
    "                  thalach + exang + oldpeak + \\\n",
    "                  slope + ca + thal\", data = heart_data).fit()\n",
    "model.summary()"
   ]
  },
  {
   "cell_type": "markdown",
   "metadata": {},
   "source": [
    "With all features the psuedo-R-square is ~.53\n",
    "\n",
    "I'm going to run this analysis again dropping everything with p > .05 (age, fbs, chol, trestbps, restecg, exang)"
   ]
  },
  {
   "cell_type": "code",
   "execution_count": 140,
   "metadata": {},
   "outputs": [
    {
     "name": "stdout",
     "output_type": "stream",
     "text": [
      "Optimization terminated successfully.\n",
      "         Current function value: 0.349566\n",
      "         Iterations 7\n"
     ]
    },
    {
     "data": {
      "text/html": [
       "<table class=\"simpletable\">\n",
       "<caption>Logit Regression Results</caption>\n",
       "<tr>\n",
       "  <th>Dep. Variable:</th>        <td>target</td>      <th>  No. Observations:  </th>  <td>   283</td>  \n",
       "</tr>\n",
       "<tr>\n",
       "  <th>Model:</th>                 <td>Logit</td>      <th>  Df Residuals:      </th>  <td>   275</td>  \n",
       "</tr>\n",
       "<tr>\n",
       "  <th>Method:</th>                 <td>MLE</td>       <th>  Df Model:          </th>  <td>     7</td>  \n",
       "</tr>\n",
       "<tr>\n",
       "  <th>Date:</th>            <td>Sat, 14 Dec 2019</td> <th>  Pseudo R-squ.:     </th>  <td>0.4907</td>  \n",
       "</tr>\n",
       "<tr>\n",
       "  <th>Time:</th>                <td>17:44:20</td>     <th>  Log-Likelihood:    </th> <td> -98.927</td> \n",
       "</tr>\n",
       "<tr>\n",
       "  <th>converged:</th>             <td>True</td>       <th>  LL-Null:           </th> <td> -194.23</td> \n",
       "</tr>\n",
       "<tr>\n",
       "  <th>Covariance Type:</th>     <td>nonrobust</td>    <th>  LLR p-value:       </th> <td>1.115e-37</td>\n",
       "</tr>\n",
       "</table>\n",
       "<table class=\"simpletable\">\n",
       "<tr>\n",
       "      <td></td>         <th>coef</th>     <th>std err</th>      <th>z</th>      <th>P>|z|</th>  <th>[0.025</th>    <th>0.975]</th>  \n",
       "</tr>\n",
       "<tr>\n",
       "  <th>Intercept</th> <td>    0.1331</td> <td>    1.582</td> <td>    0.084</td> <td> 0.933</td> <td>   -2.969</td> <td>    3.235</td>\n",
       "</tr>\n",
       "<tr>\n",
       "  <th>sex</th>       <td>    1.5630</td> <td>    0.447</td> <td>    3.497</td> <td> 0.000</td> <td>    0.687</td> <td>    2.439</td>\n",
       "</tr>\n",
       "<tr>\n",
       "  <th>cp</th>        <td>   -0.8259</td> <td>    0.180</td> <td>   -4.576</td> <td> 0.000</td> <td>   -1.180</td> <td>   -0.472</td>\n",
       "</tr>\n",
       "<tr>\n",
       "  <th>thalach</th>   <td>   -0.0246</td> <td>    0.010</td> <td>   -2.549</td> <td> 0.011</td> <td>   -0.044</td> <td>   -0.006</td>\n",
       "</tr>\n",
       "<tr>\n",
       "  <th>oldpeak</th>   <td>    0.6422</td> <td>    0.220</td> <td>    2.915</td> <td> 0.004</td> <td>    0.210</td> <td>    1.074</td>\n",
       "</tr>\n",
       "<tr>\n",
       "  <th>slope</th>     <td>   -0.7090</td> <td>    0.348</td> <td>   -2.037</td> <td> 0.042</td> <td>   -1.391</td> <td>   -0.027</td>\n",
       "</tr>\n",
       "<tr>\n",
       "  <th>ca</th>        <td>    1.1911</td> <td>    0.249</td> <td>    4.782</td> <td> 0.000</td> <td>    0.703</td> <td>    1.679</td>\n",
       "</tr>\n",
       "<tr>\n",
       "  <th>thal</th>      <td>    1.1670</td> <td>    0.301</td> <td>    3.882</td> <td> 0.000</td> <td>    0.578</td> <td>    1.756</td>\n",
       "</tr>\n",
       "</table>"
      ],
      "text/plain": [
       "<class 'statsmodels.iolib.summary.Summary'>\n",
       "\"\"\"\n",
       "                           Logit Regression Results                           \n",
       "==============================================================================\n",
       "Dep. Variable:                 target   No. Observations:                  283\n",
       "Model:                          Logit   Df Residuals:                      275\n",
       "Method:                           MLE   Df Model:                            7\n",
       "Date:                Sat, 14 Dec 2019   Pseudo R-squ.:                  0.4907\n",
       "Time:                        17:44:20   Log-Likelihood:                -98.927\n",
       "converged:                       True   LL-Null:                       -194.23\n",
       "Covariance Type:            nonrobust   LLR p-value:                 1.115e-37\n",
       "==============================================================================\n",
       "                 coef    std err          z      P>|z|      [0.025      0.975]\n",
       "------------------------------------------------------------------------------\n",
       "Intercept      0.1331      1.582      0.084      0.933      -2.969       3.235\n",
       "sex            1.5630      0.447      3.497      0.000       0.687       2.439\n",
       "cp            -0.8259      0.180     -4.576      0.000      -1.180      -0.472\n",
       "thalach       -0.0246      0.010     -2.549      0.011      -0.044      -0.006\n",
       "oldpeak        0.6422      0.220      2.915      0.004       0.210       1.074\n",
       "slope         -0.7090      0.348     -2.037      0.042      -1.391      -0.027\n",
       "ca             1.1911      0.249      4.782      0.000       0.703       1.679\n",
       "thal           1.1670      0.301      3.882      0.000       0.578       1.756\n",
       "==============================================================================\n",
       "\"\"\""
      ]
     },
     "execution_count": 140,
     "metadata": {},
     "output_type": "execute_result"
    }
   ],
   "source": [
    "model = smf.logit(\n",
    "    formula=\"target ~ \\\n",
    "    sex + cp + thalach + oldpeak + \\\n",
    "                  slope + ca + thal\", data = heart_data).fit()\n",
    "model.summary()"
   ]
  },
  {
   "cell_type": "markdown",
   "metadata": {},
   "source": [
    "R-squared is about the same, let's test the model again to see if it's better or worse."
   ]
  },
  {
   "cell_type": "code",
   "execution_count": 144,
   "metadata": {},
   "outputs": [
    {
     "name": "stdout",
     "output_type": "stream",
     "text": [
      "accuracy:  0.9154929577464789\n",
      "precision:  0.96875\n",
      "recall:  0.8611111111111112\n"
     ]
    },
    {
     "name": "stderr",
     "output_type": "stream",
     "text": [
      "/Library/Frameworks/Python.framework/Versions/3.7/lib/python3.7/site-packages/sklearn/linear_model/logistic.py:432: FutureWarning: Default solver will be changed to 'lbfgs' in 0.22. Specify a solver to silence this warning.\n",
      "  FutureWarning)\n"
     ]
    }
   ],
   "source": [
    "features = ['sex', 'cp', 'thalach', 'oldpeak', 'slope', 'ca', 'thal']\n",
    "\n",
    "X = heart_data[features]\n",
    "y = heart_data['target']\n",
    "\n",
    "X_train, X_test, y_train, y_test = train_test_split(\n",
    "    X, y, test_size=0.25, random_state=0)\n",
    "\n",
    "reg = LogisticRegression()\n",
    "\n",
    "#fit the model with training data\n",
    "reg.fit(X_train, y_train)\n",
    "\n",
    "y_predict = reg.predict(X_test)\n",
    "\n",
    "print(\"accuracy: \", metrics.accuracy_score(y_test, y_predict))\n",
    "print('precision: ', metrics.precision_score(y_test, y_predict))\n",
    "print('recall: ', metrics.recall_score(y_test, y_predict))"
   ]
  },
  {
   "cell_type": "markdown",
   "metadata": {},
   "source": [
    "Accuracy isn't better, so the best option is to keep all the features.\n",
    "\n",
    "Just for funsies, checking the accuracy of naive bayes and k-neighbors"
   ]
  },
  {
   "cell_type": "code",
   "execution_count": 145,
   "metadata": {},
   "outputs": [
    {
     "name": "stdout",
     "output_type": "stream",
     "text": [
      "Naive-Bayes accuracy :  0.8873239436619719\n"
     ]
    }
   ],
   "source": [
    "# import the necessary module\n",
    "from sklearn.naive_bayes import GaussianNB\n",
    "from sklearn.metrics import accuracy_score\n",
    "#create an object of the type GaussianNB\n",
    "gnb = GaussianNB()\n",
    "#train the algorithm on training data and predict using the testing data\n",
    "pred = gnb.fit(X_train, y_train).predict(X_test)\n",
    "#print(pred.tolist())\n",
    "#print the accuracy score of the model\n",
    "print(\"Naive-Bayes accuracy : \",accuracy_score(y_test, pred, normalize = True))"
   ]
  },
  {
   "cell_type": "code",
   "execution_count": 146,
   "metadata": {},
   "outputs": [
    {
     "name": "stdout",
     "output_type": "stream",
     "text": [
      "KNeighbors accuracy score :  0.7887323943661971\n"
     ]
    }
   ],
   "source": [
    "#import necessary modules\n",
    "from sklearn.neighbors import KNeighborsClassifier\n",
    "from sklearn.metrics import accuracy_score\n",
    "#create object of the lassifier\n",
    "neigh = KNeighborsClassifier(n_neighbors=3)\n",
    "#Train the algorithm\n",
    "neigh.fit(X_train, y_train)\n",
    "# predict the response\n",
    "pred = neigh.predict(X_test)\n",
    "# evaluate accuracy\n",
    "print (\"KNeighbors accuracy score : \",accuracy_score(y_test, pred))"
   ]
  },
  {
   "cell_type": "markdown",
   "metadata": {},
   "source": [
    "Neither is better than the logistic regression."
   ]
  },
  {
   "cell_type": "code",
   "execution_count": null,
   "metadata": {},
   "outputs": [],
   "source": []
  }
 ],
 "metadata": {
  "kernelspec": {
   "display_name": "Python 3",
   "language": "python",
   "name": "python3"
  },
  "language_info": {
   "codemirror_mode": {
    "name": "ipython",
    "version": 3
   },
   "file_extension": ".py",
   "mimetype": "text/x-python",
   "name": "python",
   "nbconvert_exporter": "python",
   "pygments_lexer": "ipython3",
   "version": "3.7.3"
  }
 },
 "nbformat": 4,
 "nbformat_minor": 2
}
